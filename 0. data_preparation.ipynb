{
 "cells": [
  {
   "cell_type": "code",
   "execution_count": 1,
   "id": "6b96f79f-9426-46b2-bdab-34ffabdac07f",
   "metadata": {},
   "outputs": [
    {
     "name": "stdout",
     "output_type": "stream",
     "text": [
      "(5004330, 17)\n",
      "\n",
      "(3340, 5)\n"
     ]
    }
   ],
   "source": [
    "# Import libraries\n",
    "import numpy as np\n",
    "import pandas as pd\n",
    "\n",
    "\n",
    "# Load bike rental and station data CSV files\n",
    "bike_raw = pd.read_csv(\"seoul_bike_rental_data_2406.csv\", encoding=\"cp949\")\n",
    "station_raw = pd.read_csv('seoul_bike_station_master_data.csv', encoding=\"cp949\")\n",
    "\n",
    "# Print dimensions of the two datasets\n",
    "print(bike_raw.shape)\n",
    "print()\n",
    "print(station_raw.shape)"
   ]
  },
  {
   "cell_type": "code",
   "execution_count": 3,
   "id": "848fb552-27ef-4c32-b388-12b2bed13b5b",
   "metadata": {},
   "outputs": [],
   "source": [
    "# Create a copy of bike rental data for processing\n",
    "bike_dat = bike_raw.copy()\n",
    "\n",
    "# Rename and translate columns in bike rental data\n",
    "bike_dat.rename(\n",
    "    columns={\n",
    "        '자전거번호': 'bike_id',\n",
    "        '대여일시': 'rent_datetime',\n",
    "        '대여 대여소번호': 'rent_station_number',\n",
    "        '대여 대여소명': 'rent_station_name',\n",
    "        '대여거치대': 'rent_station_hold',\n",
    "        '반납일시': 'return_datetime',\n",
    "        '반납대여소번호': 'return_station_number',\n",
    "        '반납대여소명': 'return_station_name',\n",
    "        '반납거치대': 'return_station_hold',\n",
    "        '이용시간(분)': 'use_minutes',\n",
    "        '이용거리(M)': 'use_meters',\n",
    "        '생년': 'user_birth_year',\n",
    "        '성별': 'user_sex',\n",
    "        '이용자종류': 'user_type',\n",
    "        '대여대여소ID': 'rent_station_id',\n",
    "        '반납대여소ID': 'return_station_id',\n",
    "        '자전거구분': 'bike_type',\n",
    "    },\n",
    "    inplace=True\n",
    ")\n",
    "\n",
    "# Replace invalid values with NA\n",
    "bike_dat.replace('\\\\N', pd.NA, inplace=True)\n",
    "\n",
    "# Add rental and return date and time variables \n",
    "bike_dat['rent_datetime'] = pd.to_datetime(bike_dat['rent_datetime'])\n",
    "bike_dat['rent_date'] = bike_dat['rent_datetime'].dt.date\n",
    "bike_dat['rent_hour'] = bike_dat['rent_datetime'].dt.hour\n",
    "bike_dat['rent_weekday'] = bike_dat['rent_datetime'].dt.weekday\n",
    "bike_dat['rent_is_weekend'] = bike_dat['rent_weekday'].apply(lambda x: True if x in [5, 6] else False)\n",
    "\n",
    "bike_dat['return_datetime'] = pd.to_datetime(bike_dat['return_datetime'])\n",
    "bike_dat['return_date'] = bike_dat['return_datetime'].dt.date\n",
    "bike_dat['return_hour'] = bike_dat['return_datetime'].dt.hour\n",
    "bike_dat['return_weekday'] = bike_dat['return_datetime'].dt.weekday\n",
    "bike_dat['return_is_weekend'] = bike_dat['return_weekday'].apply(lambda x: True if x in [5, 6] else False)\n",
    "\n",
    "\n",
    "# Fix rental station numbers to consistent format as return station numbers\n",
    "bike_dat['rent_station_number'] = bike_dat['rent_station_number'].apply(lambda x: str(x).zfill(5))"
   ]
  },
  {
   "cell_type": "code",
   "execution_count": 5,
   "id": "c87741c3-70c8-44cd-8064-37f3261f7cea",
   "metadata": {},
   "outputs": [],
   "source": [
    "# Assert that station numbers and IDs are uniquely matched\n",
    "station_list = pd.concat([\n",
    "    bike_dat[['rent_station_number', 'rent_station_id']].rename(columns={'rent_station_number': 'station_number','rent_station_id' : 'station_id'}), \n",
    "    bike_dat[['return_station_number', 'return_station_id']].rename(columns={'return_station_number': 'station_number','return_station_id' : 'station_id'})], ignore_index=True).drop_duplicates()\n",
    "\n",
    "assert all(station_list['station_number'].value_counts() == 1)\n",
    "assert all(station_list['station_id'].value_counts() == 1)"
   ]
  },
  {
   "cell_type": "code",
   "execution_count": 7,
   "id": "34d30926-e677-49e0-b95d-a6666799227b",
   "metadata": {},
   "outputs": [],
   "source": [
    "# Create a copy of station data for processing\n",
    "station_info = station_raw.copy()\n",
    "\n",
    "# Rename and translate columns in station data for consistency and readability\n",
    "station_info.rename(\n",
    "    columns={\n",
    "        '대여소_ID': 'station_id',\n",
    "        '주소1': 'address_1',\n",
    "        '주소2': 'address_2',\n",
    "        '위도': 'station_latitude',\n",
    "        '경도': 'station_longitude',\n",
    "    },\n",
    "    inplace=True\n",
    ")\n",
    "\n",
    "# Replace invalid values with NA\n",
    "station_info.replace('\\\\N', pd.NA, inplace=True)\n",
    "\n",
    "# Assert that station IDs are unique in the station data\n",
    "assert all(station_info['station_id'].value_counts() == 1)"
   ]
  },
  {
   "cell_type": "code",
   "execution_count": 9,
   "id": "e3a4123d-92e4-4989-a679-9c4be30e6fd9",
   "metadata": {},
   "outputs": [],
   "source": [
    "# Merge station information into bike rental data for both rental and return stations\n",
    "rent_station_info = station_info[['station_id', 'station_latitude', 'station_longitude']].rename(\n",
    "    columns={\n",
    "        'station_id': 'rent_station_id',\n",
    "        'station_latitude': 'rent_station_latitude',\n",
    "        'station_longitude': 'rent_station_longitude',\n",
    "    })\n",
    "\n",
    "return_station_info = station_info[['station_id', 'station_latitude', 'station_longitude']].rename(\n",
    "    columns={\n",
    "        'station_id': 'return_station_id',\n",
    "        'station_latitude': 'return_station_latitude',\n",
    "        'station_longitude': 'return_station_longitude',\n",
    "    })\n",
    "\n",
    "bike_dat = bike_dat.merge(rent_station_info, how='left', on='rent_station_id')\n",
    "bike_dat = bike_dat.merge(return_station_info, how='left', on='return_station_id')"
   ]
  },
  {
   "cell_type": "code",
   "execution_count": 11,
   "id": "810a735e-8e5c-4467-bf68-21747afb9166",
   "metadata": {},
   "outputs": [
    {
     "name": "stdout",
     "output_type": "stream",
     "text": [
      "False    5004330\n",
      "Name: rent_station_latitude, dtype: int64\n",
      "\n",
      "False    4984352\n",
      "True       19978\n",
      "Name: return_station_latitude, dtype: int64\n"
     ]
    }
   ],
   "source": [
    "# Identify missing station information in the bike rental data\n",
    "print(bike_dat['rent_station_latitude'].isnull().value_counts())\n",
    "print()\n",
    "print(bike_dat['return_station_latitude'].isnull().value_counts())"
   ]
  },
  {
   "cell_type": "code",
   "execution_count": 13,
   "id": "41a1784e-5b42-41c3-bd3d-c3c83b1de4e3",
   "metadata": {},
   "outputs": [
    {
     "name": "stdout",
     "output_type": "stream",
     "text": [
      "Seould City's public bike rental system operated 4,984,352 complete rides with 39,197 bikes and 2,740 rental stations across the city in June 2024.\n"
     ]
    }
   ],
   "source": [
    "# Remove those with missing return information - not returned or software errors\n",
    "bike_dat = bike_dat[bike_dat['return_station_id'].isnull() == False]\n",
    "\n",
    "# Calculate numbers of unique bikes and rental stations\n",
    "unique_stations = np.concatenate([bike_dat['rent_station_id'].drop_duplicates(), bike_dat['return_station_id'].drop_duplicates()])\n",
    "unique_stations = np.unique(unique_stations)\n",
    "unique_bikes = bike_dat['bike_id'].drop_duplicates()\n",
    "\n",
    "num_unique_stations = len(unique_stations)\n",
    "num_unique_bikes = len(unique_bikes)\n",
    "num_rides = len(bike_dat)\n",
    "\n",
    "print(f\"Seould City's public bike rental system operated {num_rides:,} complete rides with {num_unique_bikes:,} bikes and {num_unique_stations:,} rental stations across the city in June 2024.\")"
   ]
  },
  {
   "cell_type": "code",
   "execution_count": 15,
   "id": "6360510b-e880-46e0-a07f-dce746f4126f",
   "metadata": {},
   "outputs": [],
   "source": [
    "# Export and save processed bike rental data to a CSV file\n",
    "bike_dat.to_csv('seoul_bike_rental_data_processed_2406.csv', index=False, encoding=\"cp949\") "
   ]
  }
 ],
 "metadata": {
  "kernelspec": {
   "display_name": "Python 3 (ipykernel)",
   "language": "python",
   "name": "python3"
  },
  "language_info": {
   "codemirror_mode": {
    "name": "ipython",
    "version": 3
   },
   "file_extension": ".py",
   "mimetype": "text/x-python",
   "name": "python",
   "nbconvert_exporter": "python",
   "pygments_lexer": "ipython3",
   "version": "3.11.7"
  }
 },
 "nbformat": 4,
 "nbformat_minor": 5
}
